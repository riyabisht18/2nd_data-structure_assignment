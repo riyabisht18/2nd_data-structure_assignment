{
  "nbformat": 4,
  "nbformat_minor": 0,
  "metadata": {
    "colab": {
      "provenance": []
    },
    "kernelspec": {
      "name": "python3",
      "display_name": "Python 3"
    },
    "language_info": {
      "name": "python"
    }
  },
  "cells": [
    {
      "cell_type": "markdown",
      "source": [
        "# Q1 Discuss string slicing and provide examples.\n",
        "\n",
        "## String slicing in Python is a way to get specific parts of a string by using start, end, and step values. It’s especially useful for text manipulation and data parsing.\n"
      ],
      "metadata": {
        "id": "XdCWypUiLifX"
      }
    },
    {
      "cell_type": "code",
      "execution_count": null,
      "metadata": {
        "colab": {
          "base_uri": "https://localhost:8080/"
        },
        "id": "VZY7wBX9LB5A",
        "outputId": "589bb383-59d5-48b9-93ee-921025056c32"
      },
      "outputs": [
        {
          "output_type": "stream",
          "name": "stdout",
          "text": [
            "hello\n"
          ]
        }
      ],
      "source": [
        "# example of string slicing\n",
        "str1 = \"hello world\"\n",
        "print(str1[0:5])\n"
      ]
    },
    {
      "cell_type": "markdown",
      "source": [
        "## Syntax of String Slicing in Python\n",
        "## substring = s[start : end : step]\n",
        "\n"
      ],
      "metadata": {
        "id": "5JinXT9NObhR"
      }
    },
    {
      "cell_type": "code",
      "source": [
        "# example\n",
        "str1 = \"hello world\"\n",
        "print(str1[0:5:2])"
      ],
      "metadata": {
        "colab": {
          "base_uri": "https://localhost:8080/"
        },
        "id": "-x-H86wnNpYw",
        "outputId": "f1db6619-f3a7-405b-85fd-aca801a67ed8"
      },
      "execution_count": null,
      "outputs": [
        {
          "output_type": "stream",
          "name": "stdout",
          "text": [
            "hlo\n"
          ]
        }
      ]
    },
    {
      "cell_type": "markdown",
      "source": [
        "# Slice From the Start\n",
        "### By leaving out the start index, the range will start at the first character:"
      ],
      "metadata": {
        "id": "BCWdIyZqPNkY"
      }
    },
    {
      "cell_type": "code",
      "source": [
        "str1[:6]"
      ],
      "metadata": {
        "colab": {
          "base_uri": "https://localhost:8080/",
          "height": 36
        },
        "id": "lPgqNzsgPHTd",
        "outputId": "9cd6ba05-070b-4db1-c7b5-821c7f6ac518"
      },
      "execution_count": null,
      "outputs": [
        {
          "output_type": "execute_result",
          "data": {
            "text/plain": [
              "'hello '"
            ],
            "application/vnd.google.colaboratory.intrinsic+json": {
              "type": "string"
            }
          },
          "metadata": {},
          "execution_count": 11
        }
      ]
    },
    {
      "cell_type": "markdown",
      "source": [
        "# Slice To the End\n",
        "## By leaving out the end index, the range will go to the end:"
      ],
      "metadata": {
        "id": "uZ23rP8FQJTI"
      }
    },
    {
      "cell_type": "code",
      "source": [
        "str1[0:]"
      ],
      "metadata": {
        "colab": {
          "base_uri": "https://localhost:8080/",
          "height": 36
        },
        "id": "svJW5hGhQIp1",
        "outputId": "dcd5cbd8-5f24-4fba-cbdd-5d7a941711d7"
      },
      "execution_count": null,
      "outputs": [
        {
          "output_type": "execute_result",
          "data": {
            "text/plain": [
              "'hello world'"
            ],
            "application/vnd.google.colaboratory.intrinsic+json": {
              "type": "string"
            }
          },
          "metadata": {},
          "execution_count": 12
        }
      ]
    },
    {
      "cell_type": "markdown",
      "source": [
        "# Negative Indexing in slicing\n",
        "## Negative indexing is useful for accessing elements from the end of the String. The last element has an index of -1, the second last element -2, and so on."
      ],
      "metadata": {
        "id": "vQjTkNnwQ3O5"
      }
    },
    {
      "cell_type": "code",
      "source": [
        "str1"
      ],
      "metadata": {
        "colab": {
          "base_uri": "https://localhost:8080/",
          "height": 36
        },
        "id": "EkxiWmqqczBf",
        "outputId": "87923839-e18e-4ac8-920d-05a0eac79311"
      },
      "execution_count": null,
      "outputs": [
        {
          "output_type": "execute_result",
          "data": {
            "text/plain": [
              "'hello world'"
            ],
            "application/vnd.google.colaboratory.intrinsic+json": {
              "type": "string"
            }
          },
          "metadata": {},
          "execution_count": 34
        }
      ]
    },
    {
      "cell_type": "code",
      "source": [
        "str1[-1:-6:-1]"
      ],
      "metadata": {
        "colab": {
          "base_uri": "https://localhost:8080/",
          "height": 36
        },
        "id": "OJTzT6OuPav0",
        "outputId": "4c72d7d4-ccf5-4b85-da29-7042f00bb2db"
      },
      "execution_count": null,
      "outputs": [
        {
          "output_type": "execute_result",
          "data": {
            "text/plain": [
              "'dlrow'"
            ],
            "application/vnd.google.colaboratory.intrinsic+json": {
              "type": "string"
            }
          },
          "metadata": {},
          "execution_count": 16
        }
      ]
    },
    {
      "cell_type": "code",
      "source": [
        "str1[::-1]#reverse"
      ],
      "metadata": {
        "colab": {
          "base_uri": "https://localhost:8080/",
          "height": 36
        },
        "id": "aREhDBbMRE-m",
        "outputId": "8e3f7fb9-8dea-4e7f-e740-0336bddaab16"
      },
      "execution_count": null,
      "outputs": [
        {
          "output_type": "execute_result",
          "data": {
            "text/plain": [
              "'dlrow olleh'"
            ],
            "application/vnd.google.colaboratory.intrinsic+json": {
              "type": "string"
            }
          },
          "metadata": {},
          "execution_count": 23
        }
      ]
    },
    {
      "cell_type": "code",
      "source": [
        "str1[-4:]#Characters from index -4 to the end"
      ],
      "metadata": {
        "colab": {
          "base_uri": "https://localhost:8080/",
          "height": 36
        },
        "id": "yQoo8cMnRniy",
        "outputId": "9bb5609e-ca61-4ee1-836b-7bdcaf0a8ee6"
      },
      "execution_count": null,
      "outputs": [
        {
          "output_type": "execute_result",
          "data": {
            "text/plain": [
              "'orld'"
            ],
            "application/vnd.google.colaboratory.intrinsic+json": {
              "type": "string"
            }
          },
          "metadata": {},
          "execution_count": 24
        }
      ]
    },
    {
      "cell_type": "code",
      "source": [
        "str1[:-4]# Characters from the start up to index -4 (excluding -3)\n"
      ],
      "metadata": {
        "colab": {
          "base_uri": "https://localhost:8080/",
          "height": 36
        },
        "id": "UCX1mwHZSSTz",
        "outputId": "76355c76-7a6c-4a31-b0c9-f38d47c9aceb"
      },
      "execution_count": null,
      "outputs": [
        {
          "output_type": "execute_result",
          "data": {
            "text/plain": [
              "'hello w'"
            ],
            "application/vnd.google.colaboratory.intrinsic+json": {
              "type": "string"
            }
          },
          "metadata": {},
          "execution_count": 25
        }
      ]
    },
    {
      "cell_type": "code",
      "source": [
        "str1[-5:-2]#Characters from index -5 to -2 (excluding -2)"
      ],
      "metadata": {
        "colab": {
          "base_uri": "https://localhost:8080/",
          "height": 36
        },
        "id": "DPzIKh6wSfoe",
        "outputId": "d0f4e2d9-c56d-4631-8060-699c0e97af23"
      },
      "execution_count": null,
      "outputs": [
        {
          "output_type": "execute_result",
          "data": {
            "text/plain": [
              "'wor'"
            ],
            "application/vnd.google.colaboratory.intrinsic+json": {
              "type": "string"
            }
          },
          "metadata": {},
          "execution_count": 27
        }
      ]
    },
    {
      "cell_type": "markdown",
      "source": [
        "# Q2 Explain the key features of lists in Python.\n",
        "\n",
        "## In Python, a list is a built-in data structure that is used to store an ordered collection of items. Lists are mutable, meaning that their contents can be changed after the list has been created. They can hold a various of data types, including integers, floats, strings,allow duplicate and even other lists.\n"
      ],
      "metadata": {
        "id": "BbhHagh8Ug3n"
      }
    },
    {
      "cell_type": "markdown",
      "source": [
        "# Heterogeneous\n",
        "## A list can contain elements of different types, such as integers, strings, floats, or even other lists."
      ],
      "metadata": {
        "id": "B39vwOY1k19S"
      }
    },
    {
      "cell_type": "code",
      "source": [
        "\n",
        "list1 = [1,2.5,3,4,5,\"cat\",\"dog\"]\n",
        "print(list1)"
      ],
      "metadata": {
        "colab": {
          "base_uri": "https://localhost:8080/"
        },
        "id": "hDbvsQ8tTRMq",
        "outputId": "185c4bf1-c72c-46ef-81b7-32a1d028a344"
      },
      "execution_count": null,
      "outputs": [
        {
          "output_type": "stream",
          "name": "stdout",
          "text": [
            "[1, 2.5, 3, 4, 5, 'cat', 'dog']\n"
          ]
        }
      ]
    },
    {
      "cell_type": "markdown",
      "source": [
        "# Accessing List Elements\n",
        "## Elements in a list can be accessed using indexing. Python indexes start at 0, so a[0] will access the first element, while negative indexing allows us to access elements from the end of the list. Like index -1 represents the last elements of list.\n",
        "\n",
        "\n",
        "\n",
        "\n",
        "\n"
      ],
      "metadata": {
        "id": "lADp3f2naqf7"
      }
    },
    {
      "cell_type": "code",
      "source": [
        "a1 = [1,2,3,4,5,6,7,8,9]\n",
        "print(a1[0])\n",
        "print(a1[-1])"
      ],
      "metadata": {
        "colab": {
          "base_uri": "https://localhost:8080/"
        },
        "id": "hcG2VX4UY919",
        "outputId": "226dc316-9a44-4e70-cb96-1a5ae0898f57"
      },
      "execution_count": null,
      "outputs": [
        {
          "output_type": "stream",
          "name": "stdout",
          "text": [
            "1\n",
            "9\n"
          ]
        }
      ]
    },
    {
      "cell_type": "markdown",
      "source": [
        "# Adding Elements into List\n",
        "## We can add elements to a list using the following methods:\n",
        "\n",
        "## append(): Adds an element at the end of the list.\n",
        "## extend(): Adds multiple elements to the end of the list.\n",
        "## insert(): Adds an element at a specific position."
      ],
      "metadata": {
        "id": "y5uh0NH3a8Cz"
      }
    },
    {
      "cell_type": "code",
      "source": [
        "a2 = [1,2,3,4,5,6,7,8,9]\n",
        "a2.append(10)\n",
        "print(a2)"
      ],
      "metadata": {
        "colab": {
          "base_uri": "https://localhost:8080/"
        },
        "id": "hlv7b26japkG",
        "outputId": "30f34486-2a74-4823-c042-5098f3065b47"
      },
      "execution_count": null,
      "outputs": [
        {
          "output_type": "stream",
          "name": "stdout",
          "text": [
            "[1, 2, 3, 4, 5, 6, 7, 8, 9, 10]\n"
          ]
        }
      ]
    },
    {
      "cell_type": "code",
      "source": [
        "a3 = [\"apple\",\"banana\",\"orange\"]\n",
        "a3.extend(a2)\n",
        "print(a3)"
      ],
      "metadata": {
        "colab": {
          "base_uri": "https://localhost:8080/"
        },
        "id": "or6HD2ZpbWte",
        "outputId": "ff4b7151-1128-4b1e-cc61-c4832826eb8f"
      },
      "execution_count": null,
      "outputs": [
        {
          "output_type": "stream",
          "name": "stdout",
          "text": [
            "['apple', 'banana', 'orange', 1, 2, 3, 4, 5, 6, 7, 8, 9, 10]\n"
          ]
        }
      ]
    },
    {
      "cell_type": "code",
      "source": [
        "a2.insert(2,11)\n",
        "print(a2)"
      ],
      "metadata": {
        "colab": {
          "base_uri": "https://localhost:8080/"
        },
        "id": "TIfQXdNlbr8a",
        "outputId": "0a29decf-2f43-42d2-bbee-9aca6555f1a1"
      },
      "execution_count": null,
      "outputs": [
        {
          "output_type": "stream",
          "name": "stdout",
          "text": [
            "[1, 2, 11, 3, 4, 5, 6, 7, 8, 9, 10]\n"
          ]
        }
      ]
    },
    {
      "cell_type": "markdown",
      "source": [
        "# Updating Elements into List\n",
        "## We can change the value of an element by accessing it using its index."
      ],
      "metadata": {
        "id": "YghMKbEpcAET"
      }
    },
    {
      "cell_type": "code",
      "source": [
        "name = [\"priya\",\"ashu\",\"hemant\"]\n",
        "name[1] = \"ram\"\n",
        "print(name)"
      ],
      "metadata": {
        "colab": {
          "base_uri": "https://localhost:8080/"
        },
        "id": "3MQts7o6cHMU",
        "outputId": "492b3496-a8a7-4482-b3fc-ba12b5808405"
      },
      "execution_count": null,
      "outputs": [
        {
          "output_type": "stream",
          "name": "stdout",
          "text": [
            "['priya', 'ram', 'hemant']\n"
          ]
        }
      ]
    },
    {
      "cell_type": "code",
      "source": [],
      "metadata": {
        "id": "G9ScsBXncT2Q"
      },
      "execution_count": null,
      "outputs": []
    },
    {
      "cell_type": "markdown",
      "source": [
        "# Removing Elements from List\n",
        "## We can remove elements from a list using:\n",
        "\n",
        "## remove(): Removes the first occurrence of an element.\n",
        "## pop(): Removes the element at a specific index or the last element if no index is specified.\n",
        "## del statement: Deletes an element at a specified index.\n",
        "\n",
        "\n",
        "\n",
        "\n"
      ],
      "metadata": {
        "id": "QpCrDH7ncYkh"
      }
    },
    {
      "cell_type": "code",
      "source": [
        "a3 = [\"apple\",\"banana\",\"orange\"]\n",
        "a3.remove(\"banana\")\n",
        "print(a3)"
      ],
      "metadata": {
        "colab": {
          "base_uri": "https://localhost:8080/"
        },
        "id": "tyGAuKxfdx5Q",
        "outputId": "f174e3d8-d58f-4637-e171-67e7a00029a8"
      },
      "execution_count": null,
      "outputs": [
        {
          "output_type": "stream",
          "name": "stdout",
          "text": [
            "['apple', 'orange']\n"
          ]
        }
      ]
    },
    {
      "cell_type": "code",
      "source": [
        "a3.pop(0)\n",
        "print(a3)"
      ],
      "metadata": {
        "colab": {
          "base_uri": "https://localhost:8080/"
        },
        "id": "sM8E21MLd7vA",
        "outputId": "d645f4da-d17f-4ff3-c90c-9580a729fea9"
      },
      "execution_count": null,
      "outputs": [
        {
          "output_type": "stream",
          "name": "stdout",
          "text": [
            "['orange']\n"
          ]
        }
      ]
    },
    {
      "cell_type": "code",
      "source": [
        "list2 = [1,10,10,20]\n",
        "del list2[0]\n",
        "print(list2)"
      ],
      "metadata": {
        "colab": {
          "base_uri": "https://localhost:8080/"
        },
        "id": "LSVZMvv8eBPa",
        "outputId": "b3b2f7fd-6ae9-4137-e328-93a2ebc6a9d8"
      },
      "execution_count": null,
      "outputs": [
        {
          "output_type": "stream",
          "name": "stdout",
          "text": [
            "[10, 10, 20]\n"
          ]
        }
      ]
    },
    {
      "cell_type": "markdown",
      "source": [
        "# Iterable\n",
        "## Lists are iterable, meaning you can loop through them using a for loop or other iteration techniques."
      ],
      "metadata": {
        "id": "p01CHK5Nffzn"
      }
    },
    {
      "cell_type": "code",
      "source": [
        "for i in list2:\n",
        "  print(i)\n",
        "\n",
        "\n"
      ],
      "metadata": {
        "colab": {
          "base_uri": "https://localhost:8080/"
        },
        "id": "LU_i5W9LffFk",
        "outputId": "46762484-d4d1-46a4-d3c1-a23549d804b4"
      },
      "execution_count": null,
      "outputs": [
        {
          "output_type": "stream",
          "name": "stdout",
          "text": [
            "10\n",
            "10\n",
            "20\n"
          ]
        }
      ]
    },
    {
      "cell_type": "markdown",
      "source": [
        "# List Comprehensions\n",
        "## Python provides a concise way to create lists using list comprehensions, which allow you to construct new lists by applying expressions and conditions.\n",
        "\n"
      ],
      "metadata": {
        "id": "0r-tCcZrfuA8"
      }
    },
    {
      "cell_type": "code",
      "source": [
        "list3 = [x**2 for x in list2]"
      ],
      "metadata": {
        "id": "6hKaTDtCedch"
      },
      "execution_count": null,
      "outputs": []
    },
    {
      "cell_type": "code",
      "source": [
        "list3"
      ],
      "metadata": {
        "colab": {
          "base_uri": "https://localhost:8080/"
        },
        "id": "5k2bZzxxgBa9",
        "outputId": "88917d35-b566-4f29-bcc3-ff601efdecdd"
      },
      "execution_count": null,
      "outputs": [
        {
          "output_type": "execute_result",
          "data": {
            "text/plain": [
              "[100, 100, 400]"
            ]
          },
          "metadata": {},
          "execution_count": 45
        }
      ]
    },
    {
      "cell_type": "code",
      "source": [
        "name1 = [\"sanjay_sharma\",\"nidhi_pandey\",\"priya_sharma\"]\n",
        "x = [name1 for name1 in name1 if name1.endswith(\"_sharma\") ]"
      ],
      "metadata": {
        "id": "NJIcxM7xgC0g"
      },
      "execution_count": null,
      "outputs": []
    },
    {
      "cell_type": "code",
      "source": [
        "x"
      ],
      "metadata": {
        "colab": {
          "base_uri": "https://localhost:8080/"
        },
        "id": "qsa_WOzAgfhG",
        "outputId": "08eca8fd-07f4-44f9-d30a-c1d15f2b5fbe"
      },
      "execution_count": null,
      "outputs": [
        {
          "output_type": "execute_result",
          "data": {
            "text/plain": [
              "['sanjay_sharma', 'priya_sharma']"
            ]
          },
          "metadata": {},
          "execution_count": 63
        }
      ]
    },
    {
      "cell_type": "code",
      "source": [],
      "metadata": {
        "id": "iWRG-X_XhSxV"
      },
      "execution_count": null,
      "outputs": []
    },
    {
      "cell_type": "markdown",
      "source": [
        "# Nested Lists and Multidimensional Lists\n",
        "## A nested list is a list within another list, which is useful for representing matrices or tables. We can access nested elements by chaining indexes.\n",
        "\n",
        "\n",
        "\n",
        "\n",
        "\n"
      ],
      "metadata": {
        "id": "NKZX8fqKihe3"
      }
    },
    {
      "cell_type": "code",
      "source": [
        "lis = [[10,10,20,50,],[1,2,3,4,],[5,4,5]]\n",
        "lis[0][1]"
      ],
      "metadata": {
        "colab": {
          "base_uri": "https://localhost:8080/"
        },
        "id": "prX__T9SkX91",
        "outputId": "25a9148b-10b3-4343-ff8d-834adb11db5a"
      },
      "execution_count": null,
      "outputs": [
        {
          "output_type": "execute_result",
          "data": {
            "text/plain": [
              "10"
            ]
          },
          "metadata": {},
          "execution_count": 66
        }
      ]
    },
    {
      "cell_type": "markdown",
      "source": [
        "# Q3 Describe how to access, modify, and delete elements in a list with examples."
      ],
      "metadata": {
        "id": "Yrnv-NWAlPvC"
      }
    },
    {
      "cell_type": "markdown",
      "source": [
        "# 1. Accessing Elements in a List\n",
        "## You can access individual elements in a list by using their index. List indices start at 0, meaning the first element is at index 0, the second at index 1, and so on."
      ],
      "metadata": {
        "id": "pET0FCVClvf0"
      }
    },
    {
      "cell_type": "code",
      "source": [
        "my_list = [1, 2, 3, 4, 5]\n",
        "print(my_list[0])\n",
        "print(my_list[2])"
      ],
      "metadata": {
        "colab": {
          "base_uri": "https://localhost:8080/"
        },
        "id": "YTQ6tFQWklee",
        "outputId": "f1027315-226d-470a-b1b5-49d22f55df90"
      },
      "execution_count": null,
      "outputs": [
        {
          "output_type": "stream",
          "name": "stdout",
          "text": [
            "1\n",
            "3\n"
          ]
        }
      ]
    },
    {
      "cell_type": "code",
      "source": [
        "student_name= [\"harry\",\"mukesh\",\"sachin\"]\n",
        "print(student_name[0])"
      ],
      "metadata": {
        "colab": {
          "base_uri": "https://localhost:8080/"
        },
        "id": "DJR2_xEpl-jJ",
        "outputId": "a4fbc057-f536-475d-8c02-a06779f3a269"
      },
      "execution_count": null,
      "outputs": [
        {
          "output_type": "stream",
          "name": "stdout",
          "text": [
            "harry\n"
          ]
        }
      ]
    },
    {
      "cell_type": "markdown",
      "source": [
        "# 2. Modifying Elements in a List\n",
        "## You can modify an element by assigning a new value to an index."
      ],
      "metadata": {
        "id": "JW-cbowlmSbq"
      }
    },
    {
      "cell_type": "code",
      "source": [
        "student_name= [\"harry\",\"mukesh\",\"sachin\"]\n",
        "student_name[1] = \"ram\"\n",
        "print(student_name)"
      ],
      "metadata": {
        "colab": {
          "base_uri": "https://localhost:8080/"
        },
        "id": "_NbbmSy1mOfL",
        "outputId": "a9d2f681-ec4d-4dc2-9c85-c21c2b34b7e0"
      },
      "execution_count": null,
      "outputs": [
        {
          "output_type": "stream",
          "name": "stdout",
          "text": [
            "['harry', 'ram', 'sachin']\n"
          ]
        }
      ]
    },
    {
      "cell_type": "code",
      "source": [
        "student_name [-1] = \"priya\"\n",
        "print(student_name)"
      ],
      "metadata": {
        "colab": {
          "base_uri": "https://localhost:8080/"
        },
        "id": "PpWtYj5xmYkp",
        "outputId": "8b6c32a6-22ac-4a45-fad4-dc3bc28b0818"
      },
      "execution_count": null,
      "outputs": [
        {
          "output_type": "stream",
          "name": "stdout",
          "text": [
            "['harry', 'ram', 'priya']\n"
          ]
        }
      ]
    },
    {
      "cell_type": "markdown",
      "source": [
        "# 3. Deleting Elements from a List\n",
        "## You can delete elements in a list using several methods:\n",
        "\n",
        "## Using del: Removes an element by index.\n",
        "## Using .remove(): Removes the first occurrence of a specific value.\n",
        "## Using .pop(): Removes and returns an element by index (default is the last element).\n",
        "## Using clear(): Removes all elements in the list."
      ],
      "metadata": {
        "id": "Rr-Qyu_Jmq4_"
      }
    },
    {
      "cell_type": "code",
      "source": [
        "shopping_list = [\"apple\",\"banana\",\"orange\",\"mango\"]\n",
        "del shopping_list[0]\n",
        "print(shopping_list)"
      ],
      "metadata": {
        "colab": {
          "base_uri": "https://localhost:8080/"
        },
        "id": "LuTVaWxRmlgU",
        "outputId": "7862d4a5-6e9d-401b-df1c-ada8d68c0a58"
      },
      "execution_count": null,
      "outputs": [
        {
          "output_type": "stream",
          "name": "stdout",
          "text": [
            "['banana', 'orange', 'mango']\n"
          ]
        }
      ]
    },
    {
      "cell_type": "code",
      "source": [
        "shopping_list.remove(\"banana\")\n",
        "print(shopping_list)"
      ],
      "metadata": {
        "colab": {
          "base_uri": "https://localhost:8080/"
        },
        "id": "nhu7BlRCnG_r",
        "outputId": "d699083c-8cd8-4374-80ea-04cdff226d33"
      },
      "execution_count": null,
      "outputs": [
        {
          "output_type": "stream",
          "name": "stdout",
          "text": [
            "['orange', 'mango']\n"
          ]
        }
      ]
    },
    {
      "cell_type": "code",
      "source": [
        "shopping_list.pop(0)\n",
        "print(shopping_list)"
      ],
      "metadata": {
        "colab": {
          "base_uri": "https://localhost:8080/"
        },
        "id": "IUQemTWsnQ5A",
        "outputId": "cdbeb130-9819-44d5-c8ef-35fb8ad132df"
      },
      "execution_count": null,
      "outputs": [
        {
          "output_type": "stream",
          "name": "stdout",
          "text": [
            "['mango']\n"
          ]
        }
      ]
    },
    {
      "cell_type": "code",
      "source": [
        "shopping_list.clear()\n",
        "print(shopping_list)"
      ],
      "metadata": {
        "colab": {
          "base_uri": "https://localhost:8080/"
        },
        "id": "5A6z8EA_nVtM",
        "outputId": "7d1f35d6-fe66-4a80-e3f7-aa21f318d542"
      },
      "execution_count": null,
      "outputs": [
        {
          "output_type": "stream",
          "name": "stdout",
          "text": [
            "[]\n"
          ]
        }
      ]
    },
    {
      "cell_type": "markdown",
      "source": [
        "# Q4 Compare and contrast tuples and lists with examples\n",
        "\n",
        "## Both tuples and lists are data structures in Python that allow you to store a collection of items. However, they differ in several key aspects, such as mutability, syntax, and use cases."
      ],
      "metadata": {
        "id": "EJRwTcIrnjI3"
      }
    },
    {
      "cell_type": "markdown",
      "source": [
        "# 1. Mutability\n",
        "## 1.Lists are mutable. This means you can modify, add, or remove elements after the list is created.\n",
        "\n",
        "## 2.Tuples are immutable. Once a tuple is created, you cannot change, add, or remove elements."
      ],
      "metadata": {
        "id": "jC9ItZMIoY6e"
      }
    },
    {
      "cell_type": "code",
      "source": [
        "# list example\n",
        "list1 = [1,2,3,4,5]\n",
        "list1[0] = 10\n",
        "print(list1)"
      ],
      "metadata": {
        "colab": {
          "base_uri": "https://localhost:8080/"
        },
        "id": "elwG6FgjnaVt",
        "outputId": "5a18bff7-a83c-4e9a-f6b9-6564311926ca"
      },
      "execution_count": null,
      "outputs": [
        {
          "output_type": "stream",
          "name": "stdout",
          "text": [
            "[10, 2, 3, 4, 5]\n"
          ]
        }
      ]
    },
    {
      "cell_type": "code",
      "source": [
        "# tuple example\n",
        "tuple1 = (1,2,3,4,5)\n",
        "tuple1[0] = 10\n",
        "print(tuple1)"
      ],
      "metadata": {
        "colab": {
          "base_uri": "https://localhost:8080/",
          "height": 193
        },
        "id": "LmUYAkCHorAg",
        "outputId": "82c1f77e-efc4-4344-be8f-49b4ce259156"
      },
      "execution_count": null,
      "outputs": [
        {
          "output_type": "error",
          "ename": "TypeError",
          "evalue": "'tuple' object does not support item assignment",
          "traceback": [
            "\u001b[0;31m---------------------------------------------------------------------------\u001b[0m",
            "\u001b[0;31mTypeError\u001b[0m                                 Traceback (most recent call last)",
            "\u001b[0;32m<ipython-input-77-2387c7217274>\u001b[0m in \u001b[0;36m<cell line: 3>\u001b[0;34m()\u001b[0m\n\u001b[1;32m      1\u001b[0m \u001b[0;31m# tuple example\u001b[0m\u001b[0;34m\u001b[0m\u001b[0;34m\u001b[0m\u001b[0m\n\u001b[1;32m      2\u001b[0m \u001b[0mtuple1\u001b[0m \u001b[0;34m=\u001b[0m \u001b[0;34m(\u001b[0m\u001b[0;36m1\u001b[0m\u001b[0;34m,\u001b[0m\u001b[0;36m2\u001b[0m\u001b[0;34m,\u001b[0m\u001b[0;36m3\u001b[0m\u001b[0;34m,\u001b[0m\u001b[0;36m4\u001b[0m\u001b[0;34m,\u001b[0m\u001b[0;36m5\u001b[0m\u001b[0;34m)\u001b[0m\u001b[0;34m\u001b[0m\u001b[0;34m\u001b[0m\u001b[0m\n\u001b[0;32m----> 3\u001b[0;31m \u001b[0mtuple1\u001b[0m\u001b[0;34m[\u001b[0m\u001b[0;36m0\u001b[0m\u001b[0;34m]\u001b[0m \u001b[0;34m=\u001b[0m \u001b[0;36m10\u001b[0m\u001b[0;34m\u001b[0m\u001b[0;34m\u001b[0m\u001b[0m\n\u001b[0m\u001b[1;32m      4\u001b[0m \u001b[0mprint\u001b[0m\u001b[0;34m(\u001b[0m\u001b[0mtuple1\u001b[0m\u001b[0;34m)\u001b[0m\u001b[0;34m\u001b[0m\u001b[0;34m\u001b[0m\u001b[0m\n",
            "\u001b[0;31mTypeError\u001b[0m: 'tuple' object does not support item assignment"
          ]
        }
      ]
    },
    {
      "cell_type": "markdown",
      "source": [
        "# 2. Syntax\n",
        "## Lists are created using square brackets ([]).\n",
        "## Tuples are created using parentheses (())."
      ],
      "metadata": {
        "id": "a14HfgJypQsg"
      }
    },
    {
      "cell_type": "code",
      "source": [
        "list1 = [1,5,8,7]\n",
        "tuple1 = (1,5,8,7)"
      ],
      "metadata": {
        "id": "mogznukwovDX"
      },
      "execution_count": null,
      "outputs": []
    },
    {
      "cell_type": "markdown",
      "source": [
        "# 3. Methods/Operations\n",
        "## Lists have more built-in methods, like append(), remove(), insert(), pop(), extend(), and more because they are mutable.\n",
        "\n",
        "## Tuples have fewer built-in methods, primarily count() and index().\n"
      ],
      "metadata": {
        "id": "gb1GS5R-pqcF"
      }
    },
    {
      "cell_type": "code",
      "source": [
        "list1 = [1,5,8,7]\n",
        "list1.append(10)\n",
        "print(list1)"
      ],
      "metadata": {
        "colab": {
          "base_uri": "https://localhost:8080/"
        },
        "id": "rMva_HMupaBW",
        "outputId": "7afaecdd-555a-4075-e93d-5354c460652f"
      },
      "execution_count": null,
      "outputs": [
        {
          "output_type": "stream",
          "name": "stdout",
          "text": [
            "[1, 5, 8, 7, 10]\n"
          ]
        }
      ]
    },
    {
      "cell_type": "code",
      "source": [
        "tuple1 = (1,5,8,7)\n",
        "print(tuple1.count(1))\n",
        "\n"
      ],
      "metadata": {
        "colab": {
          "base_uri": "https://localhost:8080/"
        },
        "id": "aLfYs_wMqFUT",
        "outputId": "0eabbe85-c559-4843-e040-b059a0491d59"
      },
      "execution_count": null,
      "outputs": [
        {
          "output_type": "stream",
          "name": "stdout",
          "text": [
            "1\n"
          ]
        }
      ]
    },
    {
      "cell_type": "markdown",
      "source": [
        "# 4. Use Cases\n",
        "## Lists are used when you need a mutable collection of items, such as adding, removing, or modifying elements. They're ideal for dynamic collections.\n",
        "\n",
        "# Tuples are used when you need an immutable collection. This is useful for:\n",
        "\n",
        "## Storing data that shouldn't change, like coordinates or configuration settings.\n"
      ],
      "metadata": {
        "id": "IE3drRm8qZnY"
      }
    },
    {
      "cell_type": "markdown",
      "source": [
        "# Q5 Describe the key features of sets and provide examples of their use.\n",
        "\n",
        "\n",
        "## In Python, a set is an unordered collection of unique elements. Sets are one of the built-in data types in Python and are commonly used to store multiple items in a single variable."
      ],
      "metadata": {
        "id": "un_OSM1Hq9Sb"
      }
    },
    {
      "cell_type": "markdown",
      "source": [
        "# Key Features of Sets\n",
        "##> Unordered: Sets are unordered collections, meaning that the elements do not have a specific order. When you iterate over a set, the elements may appear in a different order each time.\n",
        "\n",
        "## >Unique Elements: A set automatically removes duplicate elements. If you attempt to add a duplicate value to a set, it will not be added again.\n",
        "\n",
        "## >Mutable: Sets are mutable, which means you can add or remove elements after the set is created.\n",
        "\n",
        "## >No Indexing: Since sets are unordered, you cannot access their elements using indices like lists or tuples. You must iterate over them or use set operations.\n",
        "\n",
        "## >Supports Set Operations: Sets support mathematical operations like union, intersection, difference, and symmetric difference. This makes them very useful for tasks involving comparisons or set theory operations."
      ],
      "metadata": {
        "id": "ApNJ6cia3Qqs"
      }
    },
    {
      "cell_type": "code",
      "source": [
        "# Creating Sets\n",
        "# Using Curly Braces ({})\n",
        "set1 = {1,2,3,4,5}\n",
        "print(set1)"
      ],
      "metadata": {
        "colab": {
          "base_uri": "https://localhost:8080/"
        },
        "id": "pRt3fRTqqOPW",
        "outputId": "65826c42-119b-4d0b-ad38-8e0cf66c6442"
      },
      "execution_count": null,
      "outputs": [
        {
          "output_type": "stream",
          "name": "stdout",
          "text": [
            "{1, 2, 3, 4, 5}\n"
          ]
        }
      ]
    },
    {
      "cell_type": "markdown",
      "source": [
        "# Key Set Operations\n",
        "## Adding Elements: Use the add() method to add a single element."
      ],
      "metadata": {
        "id": "zwc2Bbc64GP0"
      }
    },
    {
      "cell_type": "code",
      "source": [
        "set1.add(10)\n",
        "print(set1)"
      ],
      "metadata": {
        "colab": {
          "base_uri": "https://localhost:8080/"
        },
        "id": "vdFoKhyf3557",
        "outputId": "facb9220-8b5e-48a9-b535-3c2af47aa134"
      },
      "execution_count": null,
      "outputs": [
        {
          "output_type": "stream",
          "name": "stdout",
          "text": [
            "{1, 2, 3, 4, 5, 10}\n"
          ]
        }
      ]
    },
    {
      "cell_type": "markdown",
      "source": [
        "## Removing Elements: Use remove() to remove an element (raises KeyError if the element is not found), or discard() (does not raise an error if the element is not found)."
      ],
      "metadata": {
        "id": "2ssILr2P59d2"
      }
    },
    {
      "cell_type": "code",
      "source": [
        "# remove element\n",
        "set1.remove(16)\n",
        "print(set1)"
      ],
      "metadata": {
        "colab": {
          "base_uri": "https://localhost:8080/",
          "height": 176
        },
        "id": "WGMT-_jd4MN3",
        "outputId": "f670f65b-f6c8-4307-d552-889734bfd57b"
      },
      "execution_count": null,
      "outputs": [
        {
          "output_type": "error",
          "ename": "KeyError",
          "evalue": "16",
          "traceback": [
            "\u001b[0;31m---------------------------------------------------------------------------\u001b[0m",
            "\u001b[0;31mKeyError\u001b[0m                                  Traceback (most recent call last)",
            "\u001b[0;32m<ipython-input-89-9cb0037299ea>\u001b[0m in \u001b[0;36m<cell line: 2>\u001b[0;34m()\u001b[0m\n\u001b[1;32m      1\u001b[0m \u001b[0;31m# remove element\u001b[0m\u001b[0;34m\u001b[0m\u001b[0;34m\u001b[0m\u001b[0m\n\u001b[0;32m----> 2\u001b[0;31m \u001b[0mset1\u001b[0m\u001b[0;34m.\u001b[0m\u001b[0mremove\u001b[0m\u001b[0;34m(\u001b[0m\u001b[0;36m16\u001b[0m\u001b[0;34m)\u001b[0m\u001b[0;34m\u001b[0m\u001b[0;34m\u001b[0m\u001b[0m\n\u001b[0m\u001b[1;32m      3\u001b[0m \u001b[0mprint\u001b[0m\u001b[0;34m(\u001b[0m\u001b[0mset1\u001b[0m\u001b[0;34m)\u001b[0m\u001b[0;34m\u001b[0m\u001b[0;34m\u001b[0m\u001b[0m\n",
            "\u001b[0;31mKeyError\u001b[0m: 16"
          ]
        }
      ]
    },
    {
      "cell_type": "code",
      "source": [
        "set1.discard(16)\n",
        "print(set1)"
      ],
      "metadata": {
        "colab": {
          "base_uri": "https://localhost:8080/"
        },
        "id": "7U-tYqfh6EnL",
        "outputId": "a5681193-e8b2-4ed5-f1c2-f99edd3335ab"
      },
      "execution_count": null,
      "outputs": [
        {
          "output_type": "stream",
          "name": "stdout",
          "text": [
            "{1, 2, 3, 4, 5}\n"
          ]
        }
      ]
    },
    {
      "cell_type": "markdown",
      "source": [
        "## Set Union: Combine two sets using the | operator or the union() method."
      ],
      "metadata": {
        "id": "RB9XVMSN4YU6"
      }
    },
    {
      "cell_type": "code",
      "source": [
        "set1 = {1,2,3,4,5}\n",
        "set2 = {6,7,8,9,10}\n",
        "set3 = set1 | set2\n",
        "print(set3)"
      ],
      "metadata": {
        "colab": {
          "base_uri": "https://localhost:8080/"
        },
        "id": "LeOPW-8r4TnR",
        "outputId": "aa6fd060-6ae6-4805-fae6-3ca0feb603e6"
      },
      "execution_count": null,
      "outputs": [
        {
          "output_type": "stream",
          "name": "stdout",
          "text": [
            "{1, 2, 3, 4, 5, 6, 7, 8, 9, 10}\n"
          ]
        }
      ]
    },
    {
      "cell_type": "markdown",
      "source": [
        "## Set Intersection: Find common elements using the & operator or the intersection() method."
      ],
      "metadata": {
        "id": "Xf70eDze4lq7"
      }
    },
    {
      "cell_type": "code",
      "source": [
        "set1 = {1,2,3,4,5}\n",
        "set2 = {4,5,6,7,8}\n",
        "set3 = set1 & set2\n",
        "print(set3)"
      ],
      "metadata": {
        "colab": {
          "base_uri": "https://localhost:8080/"
        },
        "id": "OGHt62514fWn",
        "outputId": "7f3bf327-9b60-4418-fcf2-a41b56878926"
      },
      "execution_count": null,
      "outputs": [
        {
          "output_type": "stream",
          "name": "stdout",
          "text": [
            "{4, 5}\n"
          ]
        }
      ]
    },
    {
      "cell_type": "markdown",
      "source": [
        "## Set Difference: Find elements in one set but not in another using the - operator or the difference() method."
      ],
      "metadata": {
        "id": "TfYFWESk4udV"
      }
    },
    {
      "cell_type": "code",
      "source": [
        "set1 = {1,2,3,4,5}\n",
        "set2 = {4,5,6,7,8}\n",
        "set3 = set1 - set2\n",
        "print(set3)"
      ],
      "metadata": {
        "colab": {
          "base_uri": "https://localhost:8080/"
        },
        "id": "ksFfdHru4pRQ",
        "outputId": "a3da33e6-1ca7-469c-f58d-42543e7344bc"
      },
      "execution_count": null,
      "outputs": [
        {
          "output_type": "stream",
          "name": "stdout",
          "text": [
            "{1, 2, 3}\n"
          ]
        }
      ]
    },
    {
      "cell_type": "markdown",
      "source": [
        "## Set Symmetric Difference: Find elements that are in either of the sets but not both using the ^ operator or the symmetric_difference() method."
      ],
      "metadata": {
        "id": "OHQu6pHn5hZe"
      }
    },
    {
      "cell_type": "code",
      "source": [
        "set1 = {1,2,3,4,5}\n",
        "set2 = {4,5,6,7,8}\n",
        "set3 = set1 ^ set2\n",
        "print(set3)"
      ],
      "metadata": {
        "colab": {
          "base_uri": "https://localhost:8080/"
        },
        "id": "apnM3rEv4xYA",
        "outputId": "9e426c70-d5c2-4729-9c43-6672f815d667"
      },
      "execution_count": null,
      "outputs": [
        {
          "output_type": "stream",
          "name": "stdout",
          "text": [
            "{1, 2, 3, 6, 7, 8}\n"
          ]
        }
      ]
    },
    {
      "cell_type": "markdown",
      "source": [
        "# Q6 Discuss the use cases of tuples and sets in Python programming"
      ],
      "metadata": {
        "id": "MCbJUQED63uq"
      }
    },
    {
      "cell_type": "markdown",
      "source": [
        "# Use Cases of Sets\n",
        "\n",
        "## Removing Duplicates from a List: If you have a list with duplicates and want to remove them, converting it to a set automatically eliminates duplicates."
      ],
      "metadata": {
        "id": "SKjjvs8379nj"
      }
    },
    {
      "cell_type": "code",
      "source": [
        "my_list = [1, 2, 2, 3, 4, 4, 5]\n",
        "unique_set = set(my_list)\n",
        "unique_list = list(unique_set)\n",
        "print(unique_list)"
      ],
      "metadata": {
        "colab": {
          "base_uri": "https://localhost:8080/"
        },
        "id": "1fTu0ur75zw-",
        "outputId": "0e824d04-6b6c-4a27-c9d5-a9824cd1c977"
      },
      "execution_count": null,
      "outputs": [
        {
          "output_type": "stream",
          "name": "stdout",
          "text": [
            "[1, 2, 3, 4, 5]\n"
          ]
        }
      ]
    },
    {
      "cell_type": "markdown",
      "source": [
        "## Checking for Common Elements Between Two Lists: Sets are perfect for finding common elements between two lists, as sets support efficient intersection operations."
      ],
      "metadata": {
        "id": "RHAsYoVp8TZh"
      }
    },
    {
      "cell_type": "code",
      "source": [
        "list1 = [1, 2, 3, 4, 5]\n",
        "list2 = [4, 5, 6, 7, 8]\n",
        "list3 = set(list1) & set(list2)\n",
        "print(list3)"
      ],
      "metadata": {
        "colab": {
          "base_uri": "https://localhost:8080/"
        },
        "id": "b2jFj10q8K9H",
        "outputId": "0414aa60-4767-4537-851f-60a2f7ee06a0"
      },
      "execution_count": null,
      "outputs": [
        {
          "output_type": "stream",
          "name": "stdout",
          "text": [
            "{4, 5}\n"
          ]
        }
      ]
    },
    {
      "cell_type": "markdown",
      "source": [
        "## Set Membership: You can check if an element exists in a set using the in keyword, which is very fast for sets."
      ],
      "metadata": {
        "id": "mZXKWRbx8qev"
      }
    },
    {
      "cell_type": "code",
      "source": [
        "set1 = {1,2,3,4}\n",
        "print(3 in set1)"
      ],
      "metadata": {
        "colab": {
          "base_uri": "https://localhost:8080/"
        },
        "id": "c2Om9nqQ8l2s",
        "outputId": "660c8e3c-b534-4500-93df-f9c7d79a1156"
      },
      "execution_count": null,
      "outputs": [
        {
          "output_type": "stream",
          "name": "stdout",
          "text": [
            "True\n"
          ]
        }
      ]
    },
    {
      "cell_type": "markdown",
      "source": [
        "# Use Cases of Tuples\n",
        "Immutable Data:\n",
        "\n",
        "## If you have a collection of values that should not be modified after creation, a tuple is a perfect choice."
      ],
      "metadata": {
        "id": "7_MGxjc_srAM"
      }
    },
    {
      "cell_type": "markdown",
      "source": [
        "# Data Integrity:\n",
        "\n",
        "## Tuples are often used to represent records or rows in a database where you want to ensure that the data cannot be changed by accident."
      ],
      "metadata": {
        "id": "YMbpsqt9sy2J"
      }
    },
    {
      "cell_type": "markdown",
      "source": [
        "# Key for Dictionaries:\n",
        "\n",
        "## Because tuples are immutable, they can be used as keys in dictionaries, unlike lists, which are mutable and cannot be used as dictionary keys."
      ],
      "metadata": {
        "id": "pTzO9Ye1s363"
      }
    },
    {
      "cell_type": "markdown",
      "source": [
        "# Data Packing/Unpacking:\n",
        "\n",
        "## Tuples are useful for packing and unpacking values. This is common in scenarios like working with iterables, when you want to unpack data in loops or when handling grouped data.\n",
        "\n"
      ],
      "metadata": {
        "id": "q9tJ1s0OtBZF"
      }
    },
    {
      "cell_type": "markdown",
      "source": [
        "# Q7 Describe how to add, modify, and delete items in a dictionary with examples.\n",
        "\n"
      ],
      "metadata": {
        "id": "gzjHB6aktWLB"
      }
    },
    {
      "cell_type": "markdown",
      "source": [
        "# 1. Adding Items to a Dictionary\n",
        "## You can add a new item to a dictionary by specifying a new key and assigning a value to it. If the key already exists, the value will be updated."
      ],
      "metadata": {
        "id": "arcOLpvtt0fK"
      }
    },
    {
      "cell_type": "code",
      "source": [
        "my_dict = {\"name\": \"mukki\", \"age\": 30}\n",
        "my_dict[\"city\"] = \"delhi\"\n",
        "print(my_dict)"
      ],
      "metadata": {
        "id": "F3BUZ-Mr83KH",
        "colab": {
          "base_uri": "https://localhost:8080/"
        },
        "outputId": "051aa513-2bfd-4a04-e984-049d90a33930"
      },
      "execution_count": 1,
      "outputs": [
        {
          "output_type": "stream",
          "name": "stdout",
          "text": [
            "{'name': 'mukki', 'age': 30, 'city': 'delhi'}\n"
          ]
        }
      ]
    },
    {
      "cell_type": "markdown",
      "source": [
        "# 2. Modifying Items in a Dictionary\n",
        "## To modify an existing item, use the key to access the item and assign a new value to it. If the key doesn't exist, a new key-value pair will be added."
      ],
      "metadata": {
        "id": "JgssD5QHuG8F"
      }
    },
    {
      "cell_type": "code",
      "source": [
        "my_dict = {\"name\": \"mukki\", \"age\": 30}\n",
        "my_dict[\"age\"] = 35\n",
        "print(my_dict)"
      ],
      "metadata": {
        "colab": {
          "base_uri": "https://localhost:8080/"
        },
        "id": "A7G8pB_auAGk",
        "outputId": "588ea1cf-471e-47a5-9277-f38e4e0aa702"
      },
      "execution_count": 2,
      "outputs": [
        {
          "output_type": "stream",
          "name": "stdout",
          "text": [
            "{'name': 'mukki', 'age': 35}\n"
          ]
        }
      ]
    },
    {
      "cell_type": "markdown",
      "source": [
        "# 3. Deleting Items from a Dictionary\n",
        "You can delete items from a dictionary using one of the following methods:\n",
        "\n",
        "## del: Deletes a key-value pair by specifying the key.\n",
        "## .pop(): Removes the item with the specified key and returns its value.\n",
        "\n",
        "## .clear(): Removes all key-value pairs from the dictionary."
      ],
      "metadata": {
        "id": "FsEF10vIuaGY"
      }
    },
    {
      "cell_type": "code",
      "source": [
        "del my_dict[\"age\"]\n",
        "print(my_dict)"
      ],
      "metadata": {
        "colab": {
          "base_uri": "https://localhost:8080/"
        },
        "id": "_05atDBruLln",
        "outputId": "52028317-2af9-4a3c-c8c1-84772cddcb68"
      },
      "execution_count": 3,
      "outputs": [
        {
          "output_type": "stream",
          "name": "stdout",
          "text": [
            "{'name': 'mukki'}\n"
          ]
        }
      ]
    },
    {
      "cell_type": "code",
      "source": [
        "dict2  = {\"name\":\"riya\",\"age\":25}\n",
        "dict2.pop(\"name\")\n",
        "print(dict2)"
      ],
      "metadata": {
        "colab": {
          "base_uri": "https://localhost:8080/"
        },
        "id": "bkLiMk0fuvcx",
        "outputId": "c41809e6-5ead-4672-df76-249659d87684"
      },
      "execution_count": 8,
      "outputs": [
        {
          "output_type": "stream",
          "name": "stdout",
          "text": [
            "{'age': 25}\n"
          ]
        }
      ]
    },
    {
      "cell_type": "code",
      "source": [
        "dict2.clear()"
      ],
      "metadata": {
        "id": "JpZLD9ARu6Dz"
      },
      "execution_count": 9,
      "outputs": []
    },
    {
      "cell_type": "code",
      "source": [
        "dict2"
      ],
      "metadata": {
        "colab": {
          "base_uri": "https://localhost:8080/"
        },
        "id": "5lldSz0pvojo",
        "outputId": "9259ca6c-5f33-4433-d9a5-4a41dbe36bed"
      },
      "execution_count": 10,
      "outputs": [
        {
          "output_type": "execute_result",
          "data": {
            "text/plain": [
              "{}"
            ]
          },
          "metadata": {},
          "execution_count": 10
        }
      ]
    },
    {
      "cell_type": "markdown",
      "source": [
        "# Q8Discuss the importance of dictionary keys being immutable and provide examples\n",
        "\n",
        "## In Python, dictionary keys must be immutable, meaning their values cannot be changed after they are created. This requirement is crucial for several reasons, particularly for the integrity and performance of dictionaries."
      ],
      "metadata": {
        "id": "w-zrTziZwNQb"
      }
    },
    {
      "cell_type": "markdown",
      "source": [
        "# 1. Ensuring Hashing Consistency\n",
        "## Dictionaries in Python are implemented as hash tables, where each key is associated with a hash value that determines its position in memory. When a key is immutable, its hash value remains constant throughout its lifetime. This consistency allows for fast and reliable lookups, insertions, and deletions.\n",
        "\n",
        "## If dictionary keys were mutable, their hash values could change during the course of using the dictionary, which would disrupt the hash table. In such cases, the dictionary would no longer be able to find or properly update the associated values, leading to unpredictable behavior."
      ],
      "metadata": {
        "id": "vobqctYI0FJj"
      }
    },
    {
      "cell_type": "code",
      "source": [
        "# Using a tuple as a dictionary key (immutable)\n",
        "my_dict = {}\n",
        "my_dict[(1, 2, 3)] = \"value\"  # This works because tuples are immutable\n",
        "print(my_dict)  # Output: {(1, 2, 3): 'value'}\n"
      ],
      "metadata": {
        "colab": {
          "base_uri": "https://localhost:8080/"
        },
        "id": "ZbD45175vpuw",
        "outputId": "e0ffa927-7708-478b-b148-f254273ef7e8"
      },
      "execution_count": 12,
      "outputs": [
        {
          "output_type": "stream",
          "name": "stdout",
          "text": [
            "{(1, 2, 3): 'value'}\n"
          ]
        }
      ]
    },
    {
      "cell_type": "markdown",
      "source": [
        "# 2. Optimizing Performance\n",
        "## Because immutable objects have a fixed, stable hash value, they are more efficient for use as dictionary keys. The hash computation is done once when the key is first used, and this hash value can be used for quick lookups. If keys were mutable, the hash would need to be recalculated after any change, which would slow down the dictionary's performance and could result in a less optimal hash table structure."
      ],
      "metadata": {
        "id": "OQV7NnwF1IfM"
      }
    },
    {
      "cell_type": "markdown",
      "source": [
        "# 3. Maintaining Dictionary Integrity\n",
        "## Since dictionary keys are used to access values efficiently, it is essential that the keys' behavior remains predictable. If a mutable object could be used as a key, modifying it could lead to key-value mismatches, causing errors or unexpected results when accessing or modifying dictionary entries."
      ],
      "metadata": {
        "id": "1oAySShE2o6w"
      }
    },
    {
      "cell_type": "code",
      "source": [
        "# Dictionary with mutable object as key\n",
        "my_dict = {}\n",
        "key = [1, 2, 3]\n",
        "my_dict[key] = \"value\"\n",
        "\n",
        "\n",
        "key.append(4)\n",
        "\n",
        "# Accessing the dictionary after modifying the key\n",
        "print(my_dict)  # Output might be unexpected or lead to errors\n"
      ],
      "metadata": {
        "colab": {
          "base_uri": "https://localhost:8080/",
          "height": 211
        },
        "id": "_2CpVaOQ0tgR",
        "outputId": "e55e6e00-4184-47d4-c2df-7553ff4b13d8"
      },
      "execution_count": 13,
      "outputs": [
        {
          "output_type": "error",
          "ename": "TypeError",
          "evalue": "unhashable type: 'list'",
          "traceback": [
            "\u001b[0;31m---------------------------------------------------------------------------\u001b[0m",
            "\u001b[0;31mTypeError\u001b[0m                                 Traceback (most recent call last)",
            "\u001b[0;32m<ipython-input-13-2d00780a334a>\u001b[0m in \u001b[0;36m<cell line: 4>\u001b[0;34m()\u001b[0m\n\u001b[1;32m      2\u001b[0m \u001b[0mmy_dict\u001b[0m \u001b[0;34m=\u001b[0m \u001b[0;34m{\u001b[0m\u001b[0;34m}\u001b[0m\u001b[0;34m\u001b[0m\u001b[0;34m\u001b[0m\u001b[0m\n\u001b[1;32m      3\u001b[0m \u001b[0mkey\u001b[0m \u001b[0;34m=\u001b[0m \u001b[0;34m[\u001b[0m\u001b[0;36m1\u001b[0m\u001b[0;34m,\u001b[0m \u001b[0;36m2\u001b[0m\u001b[0;34m,\u001b[0m \u001b[0;36m3\u001b[0m\u001b[0;34m]\u001b[0m\u001b[0;34m\u001b[0m\u001b[0;34m\u001b[0m\u001b[0m\n\u001b[0;32m----> 4\u001b[0;31m \u001b[0mmy_dict\u001b[0m\u001b[0;34m[\u001b[0m\u001b[0mkey\u001b[0m\u001b[0;34m]\u001b[0m \u001b[0;34m=\u001b[0m \u001b[0;34m\"value\"\u001b[0m\u001b[0;34m\u001b[0m\u001b[0;34m\u001b[0m\u001b[0m\n\u001b[0m\u001b[1;32m      5\u001b[0m \u001b[0;34m\u001b[0m\u001b[0m\n\u001b[1;32m      6\u001b[0m \u001b[0;34m\u001b[0m\u001b[0m\n",
            "\u001b[0;31mTypeError\u001b[0m: unhashable type: 'list'"
          ]
        }
      ]
    },
    {
      "cell_type": "code",
      "source": [],
      "metadata": {
        "id": "lYhueIYd20wt"
      },
      "execution_count": null,
      "outputs": []
    }
  ]
}